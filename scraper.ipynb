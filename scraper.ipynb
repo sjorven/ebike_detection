{
 "cells": [
  {
   "cell_type": "code",
   "execution_count": 1,
   "metadata": {},
   "outputs": [],
   "source": [
    "import os\n",
    "import json\n",
    "import pandas as pd\n",
    "import sqlite3 as sl\n",
    "from selenium import webdriver\n",
    "from selenium.webdriver.common.keys import Keys\n",
    "from selenium.webdriver.common.by import By\n",
    "from selenium.webdriver.support import expected_conditions as EC\n",
    "from selenium.webdriver.support.wait import WebDriverWait\n",
    "from selenium.webdriver.common.action_chains import ActionChains as AC\n",
    "import time"
   ]
  },
  {
   "cell_type": "code",
   "execution_count": 2,
   "metadata": {},
   "outputs": [],
   "source": [
    "cycle_csvs = [\n",
    "    {\n",
    "        \"csv\": \"bike_activities.csv\",\n",
    "        \"label\": 0,\n",
    "        \"mtb\": 0\n",
    "    },\n",
    "    {\n",
    "        \"csv\": \"mtb_activities.csv\",\n",
    "        \"label\": 0,\n",
    "        \"mtb\": 1\n",
    "    },\n",
    "    {\n",
    "        \"csv\": \"ebike_activities.csv\",\n",
    "        \"label\": 1,\n",
    "        \"mtb\": 0\n",
    "    },\n",
    "    {\n",
    "        \"csv\": \"emtb_activities.csv\",\n",
    "        \"label\": 1,\n",
    "        \"mtb\": 1\n",
    "    }\n",
    "]\n",
    "\n",
    "csv = \"ebike_activities.csv\"\n",
    "label = 1\n",
    "mtb = 0"
   ]
  },
  {
   "cell_type": "code",
   "execution_count": 3,
   "metadata": {},
   "outputs": [],
   "source": [
    "#building the url to catch the datastream, more or less data can be scraped\n",
    "def buildQuery(activity):\n",
    "    return \"https://www.strava.com/activities/\" + activity + \"/streams\" \\\n",
    "            \"?stream_types%5B%5D=velocity_smooth\" \\\n",
    "            \"&stream_types%5B%5D=watts\" \\\n",
    "            \"&stream_types%5B%5D=heartrate\" \\\n",
    "            \"&stream_types%5B%5D=cadence\" \\\n",
    "            \"&stream_types%5B%5D=moving\" \\\n",
    "            \"&stream_types%5B%5D=distance\" \\\n",
    "            \"&stream_types%5B%5D=time\" \\\n",
    "            \"&stream_types%5B%5D=altitude\" \\\n",
    "            \"&stream_types%5B%5D=grade_smooth\" \\\n",
    "            \"&stream_types%5B%5D=grade_adjusted_distance\""
   ]
  },
  {
   "cell_type": "code",
   "execution_count": 4,
   "metadata": {},
   "outputs": [],
   "source": [
    "#saving as csv\n",
    "def saveData(df, activity):\n",
    "    os.makedirs('data/', exist_ok=True)\n",
    "    df.to_csv('data/' + activity + '.csv')\n",
    "    \n",
    "def db_get_ids():\n",
    "    con = sl.connect(\"cycling.db\")\n",
    "    query = \"SELECT DISTINCT activity_id FROM data_raw\"\n",
    "    return pd.read_sql(query, con).activity_id"
   ]
  },
  {
   "cell_type": "code",
   "execution_count": 5,
   "metadata": {},
   "outputs": [],
   "source": [
    "driver = webdriver.Firefox()\n",
    "action = AC(driver)\n",
    "driver.get(\"https://www.strava.com/login\")\n",
    "username = driver.find_element(By.ID, \"email\")\n",
    "password = driver.find_element(By.ID, \"password\")\n",
    "username.send_keys(\"ds@uni.kn\")\n",
    "password.send_keys(\"dkwo20dk\")\n",
    "driver.find_element(By.ID, \"login-button\").click()"
   ]
  },
  {
   "cell_type": "code",
   "execution_count": 6,
   "metadata": {},
   "outputs": [],
   "source": [
    "activity_ids = pd.read_csv(csv).keys().to_list()\n",
    "activity_ids_existing = db_get_ids().to_list()\n",
    "con = sl.connect(\"cycling.db\")"
   ]
  },
  {
   "cell_type": "code",
   "execution_count": 7,
   "metadata": {},
   "outputs": [
    {
     "name": "stdout",
     "output_type": "stream",
     "text": [
      "This id already exists in the database\n",
      "This id already exists in the database\n",
      "This id already exists in the database\n",
      "This id already exists in the database\n",
      "This id already exists in the database\n",
      "This id already exists in the database\n",
      "This id already exists in the database\n",
      "This id already exists in the database\n",
      "This id already exists in the database\n",
      "This id already exists in the database\n",
      "This id already exists in the database\n",
      "This id already exists in the database\n",
      "This id already exists in the database\n"
     ]
    },
    {
     "name": "stderr",
     "output_type": "stream",
     "text": [
      "/tmp/ipykernel_239753/1043656247.py:16: FutureWarning: Passing literal json to 'read_json' is deprecated and will be removed in a future version. To read from a literal string, wrap it in a 'StringIO' object.\n",
      "  data = pd.read_json(raw_data)\n"
     ]
    },
    {
     "name": "stdout",
     "output_type": "stream",
     "text": [
      "UNIQUE constraint failed: data_raw.activity_id, data_raw.time\n"
     ]
    },
    {
     "name": "stderr",
     "output_type": "stream",
     "text": [
      "/tmp/ipykernel_239753/1043656247.py:16: FutureWarning: Passing literal json to 'read_json' is deprecated and will be removed in a future version. To read from a literal string, wrap it in a 'StringIO' object.\n",
      "  data = pd.read_json(raw_data)\n"
     ]
    },
    {
     "name": "stdout",
     "output_type": "stream",
     "text": [
      "UNIQUE constraint failed: data_raw.activity_id, data_raw.time\n",
      "UNIQUE constraint failed: data_raw.activity_id, data_raw.time\n",
      "This id already exists in the database\n",
      "This id already exists in the database\n",
      "This id already exists in the database\n",
      "This id already exists in the database\n",
      "This id already exists in the database\n",
      "This id already exists in the database\n",
      "This id already exists in the database\n",
      "finished!\n"
     ]
    },
    {
     "name": "stderr",
     "output_type": "stream",
     "text": [
      "/tmp/ipykernel_239753/1043656247.py:16: FutureWarning: Passing literal json to 'read_json' is deprecated and will be removed in a future version. To read from a literal string, wrap it in a 'StringIO' object.\n",
      "  data = pd.read_json(raw_data)\n"
     ]
    }
   ],
   "source": [
    "for activity in activity_ids:\n",
    "    if activity in activity_ids_existing:\n",
    "        print(\"This id already exists in the database\")\n",
    "        continue\n",
    "    query = buildQuery(activity)\n",
    "    driver.get(query)\n",
    "    #explicitly_wait would be more precise\n",
    "    driver.implicitly_wait(5)\n",
    "    try:\n",
    "        driver.find_element(By.ID, \"rawdata-tab\").click()\n",
    "    except Exception as e:\n",
    "        print(e)\n",
    "    driver.implicitly_wait(5)\n",
    "    time.sleep(4)\n",
    "    raw_data = driver.find_element(By.XPATH, \"//pre[@class='data']\").text\n",
    "    data = pd.read_json(raw_data)\n",
    "    #adding some metadata\n",
    "    data = data.assign(activity_id = lambda x: activity)\n",
    "    data = data.assign(label = lambda x: label)\n",
    "    data = data.assign(mtb = lambda x: mtb)\n",
    "    data = data.set_index([\"time\"])\n",
    "    #saving to csv and sql\n",
    "    saveData(data, activity)\n",
    "    try:\n",
    "        data.to_sql(\"data_raw\", con, if_exists=\"append\")\n",
    "    except Exception as e:\n",
    "        print(e)\n",
    "print(\"finished!\")"
   ]
  }
 ],
 "metadata": {
  "kernelspec": {
   "display_name": "Python 3",
   "language": "python",
   "name": "python3"
  },
  "language_info": {
   "codemirror_mode": {
    "name": "ipython",
    "version": 3
   },
   "file_extension": ".py",
   "mimetype": "text/x-python",
   "name": "python",
   "nbconvert_exporter": "python",
   "pygments_lexer": "ipython3",
   "version": "3.10.12"
  }
 },
 "nbformat": 4,
 "nbformat_minor": 4
}
