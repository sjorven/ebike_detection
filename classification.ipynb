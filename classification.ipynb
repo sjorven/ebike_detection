{
 "cells": [
  {
   "cell_type": "markdown",
   "metadata": {},
   "source": [
    "# Preprocessing"
   ]
  },
  {
   "cell_type": "code",
   "execution_count": null,
   "metadata": {},
   "outputs": [],
   "source": [
    "import pandas as pd\n",
    "import numpy as np\n",
    "import os\n",
    "import json\n",
    "import sqlite3 as sl\n",
    "from joblib import dump, load\n",
    "\n",
    "from sklearn.model_selection import train_test_split, cross_val_score, GridSearchCV\n",
    "from sklearn.svm import SVC\n",
    "from sklearn.preprocessing import StandardScaler\n",
    "from sklearn.metrics import roc_curve, auc, confusion_matrix, RocCurveDisplay\n",
    "\n",
    "from matplotlib import pyplot as plt"
   ]
  },
  {
   "cell_type": "markdown",
   "metadata": {},
   "source": [
    "## Database Access"
   ]
  },
  {
   "cell_type": "code",
   "execution_count": null,
   "metadata": {},
   "outputs": [],
   "source": [
    "def db_read_by_id(id):\n",
    "    con = sl.connect(\"cycling.db\")\n",
    "    query = \"SELECT activity_id, moving, time, velocity_smooth, grade_smooth, heartrate, label \" \\\n",
    "            \"FROM data_raw \"\\\n",
    "            \"WHERE activity_id = \"+id\n",
    "    return pd.read_sql(query, con)\n",
    "\n",
    "def db_get_ids():\n",
    "    con = sl.connect(\"cycling.db\")\n",
    "    query = \"SELECT DISTINCT activity_id FROM data_raw\"\n",
    "    return pd.read_sql(query, con).activity_id"
   ]
  },
  {
   "cell_type": "markdown",
   "metadata": {},
   "source": [
    "## Segmenting function"
   ]
  },
  {
   "cell_type": "code",
   "execution_count": null,
   "metadata": {},
   "outputs": [],
   "source": [
    "def sequenceData(data, seq_size, sequences):\n",
    "    data_size = data.shape[0]\n",
    "    seq_i = 0\n",
    "    label = data.label[0]\n",
    "    activity_id = data.activity_id[0]\n",
    "    while seq_i+seq_size < data_size:\n",
    "        sequence = data.truncate(before = data.index[seq_i], after = data.index[seq_i+seq_size-1])\n",
    "        sequence = sequence.reset_index(drop=True)\n",
    "        sequence = sequence.reset_index()\n",
    "        if sequence.moving.all() == True and not sequence.isnull().any().any():\n",
    "            sequences.append([activity_id, data.index[seq_i], data.index[seq_i+seq_size-1], sequence, label])\n",
    "        seq_i = seq_i+seq_size"
   ]
  },
  {
   "cell_type": "markdown",
   "metadata": {},
   "source": [
    "## Segmenting from database"
   ]
  },
  {
   "cell_type": "code",
   "execution_count": null,
   "metadata": {},
   "outputs": [],
   "source": [
    "ids = db_get_ids()\n",
    "sequences = []\n",
    "for i in ids:\n",
    "    data = db_read_by_id(i)\n",
    "    data = data.set_index(\"time\")\n",
    "    data = data.reindex(range(data.index[0], data.index[-1]+1))\n",
    "    data.moving.bfill(inplace = True)\n",
    "    data.activity_id.bfill(inplace = True)\n",
    "    data.label.bfill(inplace=True)\n",
    "    data.velocity_smooth.interpolate(inplace=True)\n",
    "    data.grade_smooth.interpolate(inplace=True)\n",
    "    data.heartrate.interpolate(inplace=True)\n",
    "    data = data.reset_index()\n",
    "    sequenceData(data, 60, sequences)\n",
    "df = pd.DataFrame(sequences, columns = ['activity_id','start_time', 'end_time', 'sequence', 'label'])\n",
    "for row in df[\"sequence\"]:\n",
    "    row.drop([\"label\",\"moving\",\"activity_id\",\"time\",\"index\"], axis=1, inplace=True)"
   ]
  },
  {
   "cell_type": "code",
   "execution_count": null,
   "metadata": {},
   "outputs": [],
   "source": [
    "print(df)"
   ]
  },
  {
   "cell_type": "markdown",
   "metadata": {},
   "source": [
    "# Leave One Out Cross-Validation"
   ]
  },
  {
   "cell_type": "code",
   "execution_count": null,
   "metadata": {},
   "outputs": [],
   "source": [
    "def loo_split(id):\n",
    "    test_df = df[df['activity_id'] == id]\n",
    "    train_df = df[df['activity_id'] != id]\n",
    "    X_test = []\n",
    "    y_test = []\n",
    "    X_train = []\n",
    "    y_train = []\n",
    "\n",
    "    for row in test_df[\"sequence\"]:\n",
    "        X_test.append(row.to_numpy())\n",
    "    X_test = np.array(X_test)\n",
    "    if len(X_test.shape) == 3:\n",
    "        X_test = X_test.reshape(X_test.shape[0], X_test.shape[1] * X_test.shape[2])\n",
    "    elif len(X_test.shape) == 2:\n",
    "        # Do nothing, as X_test is already 2D\n",
    "        pass\n",
    "    else:\n",
    "        # Handle the case where the shape is neither 2D nor 3D\n",
    "        raise ValueError(\"Unexpected shape for X_test\")\n",
    "\n",
    "    for label in test_df[\"label\"]:\n",
    "        y_test.append(label)\n",
    "    y_test = np.array(y_test)\n",
    "\n",
    "    for row in train_df[\"sequence\"]:\n",
    "        X_train.append(row.to_numpy())\n",
    "    X_train = np.array(X_train)\n",
    "    if len(X_train.shape) == 3:\n",
    "        X_train = X_train.reshape(X_train.shape[0], X_train.shape[1] * X_train.shape[2])\n",
    "    elif len(X_train.shape) == 2:\n",
    "        # Do nothing, as X_test is already 2D\n",
    "        pass\n",
    "    else:\n",
    "        # Handle the case where the shape is neither 2D nor 3D\n",
    "        raise ValueError(\"Unexpected shape for X_train\")\n",
    "\n",
    "    for label in train_df[\"label\"]:\n",
    "        y_train.append(label)\n",
    "    y_train = np.array(y_train)\n",
    "    return X_train, X_test, y_train, y_test"
   ]
  },
  {
   "cell_type": "code",
   "execution_count": null,
   "metadata": {},
   "outputs": [],
   "source": [
    "##trains the model without the activity with input id##\n",
    "def svm_model_training(id, kernel, c, gamma, poly_degree = None):\n",
    "    X_train, X_test, y_train, y_test = loo_split(id)\n",
    "    scaler = StandardScaler()\n",
    "    X_train = scaler.fit_transform(X_train)\n",
    "    X_test = scaler.transform(X_test)\n",
    "    if kernel == \"poly\":\n",
    "        svc = SVC(kernel = kernel, degree = poly_degree, C = c, gamma = gamma, cache_size = 2000, probability=True)\n",
    "    else:\n",
    "        svc = SVC(kernel = kernel, C = c, gamma = gamma, cache_size = 2000,probability=True)\n",
    "    svc.fit(X_train,y_train)\n",
    "    return svc, X_train, X_test, y_train, y_test"
   ]
  },
  {
   "cell_type": "markdown",
   "metadata": {},
   "source": [
    "# Training and Testing of SVM model"
   ]
  },
  {
   "cell_type": "code",
   "execution_count": null,
   "metadata": {},
   "outputs": [],
   "source": [
    "def train_test_split(kernel, c, gamma, poly_degree = None):\n",
    "    y_predictions = []\n",
    "    y_tests = []\n",
    "    y_test_activity = []\n",
    "    y_probabilities = []\n",
    "    X_tests = []\n",
    "    iteration = 1\n",
    "    ids = db_get_ids()\n",
    "\n",
    "    for id in ids:\n",
    "        print(\"training split: \" + str(iteration) + \"/\" + str(ids.size))\n",
    "        iteration += 1\n",
    "        if kernel == \"poly\":\n",
    "            svc, X_train, X_test, y_train, y_test = svm_model_training(id = id, kernel = kernel, poly_degree = poly_degree, c = c, gamma = gamma)\n",
    "        else:\n",
    "            svc, X_train, X_test, y_train, y_test = svm_model_training(id = id, kernel = kernel, c = c, gamma = gamma)\n",
    "        dump(svc, 'model/svm_' + str(id) + '.joblib')\n",
    "        X_tests.append(X_test)\n",
    "        y_predict = svc.predict(X_test)\n",
    "        y_probability = svc.predict_proba(X_test)\n",
    "        y_probabilities.append(y_probability)\n",
    "        y_predictions.append(y_predict)\n",
    "        y_tests.append(y_test)\n",
    "        y_test_activity.append(y_test[0])\n",
    "\n",
    "    y_predictions_concat = np.concatenate(y_predictions)\n",
    "    y_probabilities_concat = np.concatenate(y_probabilities)\n",
    "    y_tests_concat = np.concatenate(y_tests)\n",
    "    return y_predictions_concat, y_probabilities_concat, y_tests_concat"
   ]
  },
  {
   "cell_type": "code",
   "execution_count": null,
   "metadata": {},
   "outputs": [],
   "source": [
    "#### train_test_split() test ####\n",
    "y_predictions_concat, y_probabilities_concat, y_tests_concat = train_test_split(kernel = \"poly\", poly_degree = 3, c = 0.1, gamma = 0.1)"
   ]
  },
  {
   "cell_type": "markdown",
   "metadata": {},
   "source": [
    "# ROC Curve Plotting"
   ]
  },
  {
   "cell_type": "code",
   "execution_count": null,
   "metadata": {},
   "outputs": [],
   "source": [
    "def plot_roc(y_tests_concat, y_probabilities_concat):    \n",
    "    fpr_sequences, tpr_sequences, thresholds = roc_curve(y_tests_concat, y_probabilities_concat[:,0], pos_label = 1)\n",
    "    auc_sequences = auc(fpr_sequences,tpr_sequences)\n",
    "    roc_sequences = RocCurveDisplay(fpr=fpr_sequences,tpr=tpr_sequences,roc_auc=auc_sequences,estimator_name = \"segment_classifier\",pos_label=1)\n",
    "\n",
    "    ax = plt.gca()\n",
    "    roc_sequences.plot(ax=ax)\n",
    "    plt.grid(1)\n",
    "    plt.show()"
   ]
  },
  {
   "cell_type": "code",
   "execution_count": null,
   "metadata": {},
   "outputs": [],
   "source": [
    "plot_roc(y_tests_concat, y_probabilities_concat)"
   ]
  },
  {
   "cell_type": "markdown",
   "metadata": {},
   "source": [
    "## Functions for activity classification and segment threshold classification"
   ]
  },
  {
   "cell_type": "code",
   "execution_count": null,
   "metadata": {},
   "outputs": [],
   "source": [
    "###  takes numpy array y_probability of sequence classification, returns prediction numpy array based on threshold  #######\n",
    "def classify_sequence(y_probability, threshold):\n",
    "    y_predict = np.array(list(map(lambda x: 0 if x >= threshold else 1, y_probability)))\n",
    "    return y_predict\n",
    "\n",
    "def classify_sequences_by_threshold(y_probabilities, threshold):\n",
    "    pos_probabilities = [arr[:, 1] for arr in y_probabilities]\n",
    "    sequence_predictions = []\n",
    "    for seq in pos_probabilities:\n",
    "        sequence_predictions.append(classify_sequence(seq, threshold))\n",
    "    return sequence_predictions\n",
    "\n",
    "#### takes prediction from classify_sequences_by_threshold\n",
    "#### returns class probability\n",
    "def predict_probability_activity(y_predict):\n",
    "    return np.count_nonzero(y_predict == 1)/y_predict.size\n",
    "\n",
    "def predict_probabilities_activity(sequence_predictions):\n",
    "    probability_activities = []\n",
    "    for activity_sequences in sequence_predictions:\n",
    "        probability_activities.append(predict_probability_activity(activity_sequences))\n",
    "    return probability_activities\n",
    "\n",
    "####  takes numpy array of sequence predictions for an activity_id, returns prediction based on threshold  ###########\n",
    "def classify_activity_by_threshold(y_predict, threshold):\n",
    "    if threshold == 0:\n",
    "        return 1\n",
    "    proba = predict_probability_activity(y_predict)\n",
    "    if proba >= threshold:\n",
    "        return 1\n",
    "    return 0"
   ]
  },
  {
   "cell_type": "markdown",
   "metadata": {},
   "source": [
    "# Plotting activity classifier ROC curves for different segment classification thresholds"
   ]
  },
  {
   "cell_type": "code",
   "execution_count": null,
   "metadata": {},
   "outputs": [],
   "source": [
    "### plot activity_classifier roc's for different thresholds of sequence classifier\n",
    "def plot_activity_roc(thresholds_test, y_probabilities, y_test_activity):\n",
    "    for t in thresholds_test:\n",
    "        y_predictions = classify_sequences_by_threshold(y_probabilities, t)\n",
    "        y_probability_activities = predict_probabilities_activity(y_predictions)\n",
    "        fpr, tpr, thresh = roc_curve(y_test_activity, y_probability_activities, pos_label = 1)\n",
    "        roc_auc = auc(fpr, tpr)\n",
    "        roc = RocCurveDisplay(fpr=fpr,tpr=tpr,roc_auc=roc_auc,estimator_name = f\"Threshold = {round(t,4)}\", pos_label=1)\n",
    "        alpha_value=(roc_auc-0.4)/0.98\n",
    "        ax = plt.gca()\n",
    "        if roc_auc > 0.97:\n",
    "            roc.plot(ax=ax,color = 'red',alpha=1)\n",
    "        else:\n",
    "            roc.plot(ax=ax, alpha=alpha_value)\n",
    "    ax.legend(loc='lower right', fontsize=7)\n",
    "    plt.grid(1)\n",
    "    plt.show()\n"
   ]
  },
  {
   "cell_type": "code",
   "execution_count": null,
   "metadata": {},
   "outputs": [],
   "source": [
    "best_thresholds = np.arange(0.553,0.558,0.001)\n",
    "plot_activity_roc(best_thresholds, y_probabilities, y_test_activity)"
   ]
  },
  {
   "cell_type": "markdown",
   "metadata": {},
   "source": [
    "# Plot AUC as function of threshold"
   ]
  },
  {
   "cell_type": "code",
   "execution_count": null,
   "metadata": {},
   "outputs": [],
   "source": [
    "thresholds = np.arange(0,1,0.001)\n",
    "auc_values = []\n",
    "for t in thresholds:\n",
    "    y_predictions = classify_sequences_by_threshold(y_probabilities, t)\n",
    "    y_probability_activities = predict_probabilities_activity(y_predictions)\n",
    "    fpr, tpr, thresh = roc_curve(y_test_activity, y_probability_activities, pos_label = 1)\n",
    "    roc_auc = auc(fpr, tpr)\n",
    "    auc_values.append(roc_auc)"
   ]
  },
  {
   "cell_type": "code",
   "execution_count": null,
   "metadata": {},
   "outputs": [],
   "source": [
    "# Plotting the line\n",
    "plt.plot(thresholds, auc_values, label='Line Plot')\n",
    "# Adding labels and title\n",
    "plt.xlabel('Thresholds')\n",
    "plt.ylabel('AUC')\n",
    "\n",
    "# Adding a legend\n",
    "plt.grid(1)\n",
    "# Display the plot\n",
    "plt.show()"
   ]
  },
  {
   "cell_type": "code",
   "execution_count": null,
   "metadata": {},
   "outputs": [],
   "source": [
    "# Plotting the line\n",
    "plt.plot(thresholds, auc_values, label='Line Plot')\n",
    "# Adding labels and title\n",
    "plt.xlabel('Thresholds')\n",
    "plt.ylabel('AUC')\n",
    "plt.xlim(0.5,0.6)\n",
    "# Adding a legend\n",
    "plt.grid(1)\n",
    "# Display the plot\n",
    "plt.show()"
   ]
  },
  {
   "cell_type": "markdown",
   "metadata": {},
   "source": [
    "# Save and load prediction arrays"
   ]
  },
  {
   "cell_type": "code",
   "execution_count": null,
   "metadata": {},
   "outputs": [],
   "source": [
    "# Convert lists to numpy arrays\n",
    "y_probabilities_array = np.array(y_probabilities, dtype=object)\n",
    "y_predictions_array = np.array(y_predictions, dtype=object)\n",
    "y_tests_array = np.array(y_tests, dtype=object)\n",
    "y_test_activity_array = np.array(y_test_activity)\n",
    "\n",
    "# Save arrays to files\n",
    "np.save('data/predictions/y_probabilities.npy', y_probabilities_array)\n",
    "np.save('data/predictions/y_predictions.npy', y_predictions_array)\n",
    "np.save('data/predictions/y_tests.npy', y_tests_array)\n",
    "np.save('data/predictions/y_test_activity.npy', y_test_activity_array)"
   ]
  },
  {
   "cell_type": "code",
   "execution_count": null,
   "metadata": {},
   "outputs": [],
   "source": [
    "y_tests = np.load('data/predictions/y_tests.npy', allow_pickle=True)\n",
    "y_test_activity = np.load('data/predictions/y_test_activity.npy', allow_pickle=True)\n",
    "y_probabilities = np.load('data/predictions/y_probabilities.npy', allow_pickle=True)\n",
    "y_tests_concat = np.concatenate(y_tests)\n",
    "y_probabilities_concat = np.concatenate(y_probabilities)"
   ]
  },
  {
   "cell_type": "markdown",
   "metadata": {},
   "source": [
    "## Grid-Search"
   ]
  },
  {
   "cell_type": "code",
   "execution_count": null,
   "metadata": {},
   "outputs": [],
   "source": [
    "performance = pd.DataFrame(columns=[\"kernel\",\"c\",\"gamma\",\"degree\",\"auc\",\"tpr\",\"fpr\"])\n",
    "kernels = [\"rbf\",\"poly\"]\n",
    "param_C = [1,10]\n",
    "param_gamma = [1,10]\n",
    "poly_degrees = [2]\n",
    "count = 1\n",
    "for kernel in kernels:\n",
    "    if kernel == \"poly\":\n",
    "        for c in param_C:\n",
    "            for gamma in param_gamma:\n",
    "                for degree in poly_degrees:\n",
    "                    y_predictions_concat, y_probabilities_concat, y_tests_concat = train_test_split(kernel = kernel, c = c, gamma = gamma, poly_degree = degree)\n",
    "                    plot_roc(y_tests_concat, y_probabilities_concat)\n",
    "                    print(\"Kernel:\" + kernel)\n",
    "                    print(\"Polynomial Degree:\" + str(degree))\n",
    "                    print(\"C:\" + str(c))\n",
    "                    print(\"gamma:\" + str(gamma))\n",
    "    else:\n",
    "        for c in param_C:\n",
    "            for gamma in param_gamma:\n",
    "                    y_predictions_concat, y_probabilities_concat, y_tests_concat = train_test_split(kernel = kernel, c = c, gamma = gamma)\n",
    "                    plot_roc(y_tests_concat, y_probabilities_concat)\n",
    "                    print(\"Kernel:\" + kernel)\n",
    "                    print(\"C:\" + str(c))\n",
    "                    print(\"gamma:\" + str(gamma))"
   ]
  }
 ],
 "metadata": {
  "kernelspec": {
   "display_name": "Python 3 (ipykernel)",
   "language": "python",
   "name": "python3"
  },
  "language_info": {
   "codemirror_mode": {
    "name": "ipython",
    "version": 3
   },
   "file_extension": ".py",
   "mimetype": "text/x-python",
   "name": "python",
   "nbconvert_exporter": "python",
   "pygments_lexer": "ipython3",
   "version": "3.10.12"
  }
 },
 "nbformat": 4,
 "nbformat_minor": 4
}
